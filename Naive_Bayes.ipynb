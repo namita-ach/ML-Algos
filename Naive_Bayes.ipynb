{
  "nbformat": 4,
  "nbformat_minor": 0,
  "metadata": {
    "colab": {
      "provenance": []
    },
    "kernelspec": {
      "name": "python3",
      "display_name": "Python 3"
    },
    "language_info": {
      "name": "python"
    }
  },
  "cells": [
    {
      "cell_type": "code",
      "source": [
        "import numpy as np\n",
        "import matplotlib.pyplot as plt\n",
        "from sklearn.datasets import load_iris\n",
        "from sklearn.model_selection import train_test_split\n",
        "from sklearn.metrics import confusion_matrix, accuracy_score"
      ],
      "metadata": {
        "id": "304F5X5dXXao"
      },
      "execution_count": 4,
      "outputs": []
    },
    {
      "cell_type": "code",
      "source": [
        "# Loading the iris dataset\n",
        "iris = load_iris()\n",
        "X = iris.data\n",
        "y = iris.target\n",
        "class_names = iris.target_names"
      ],
      "metadata": {
        "id": "ZSU60AIozHGV"
      },
      "execution_count": 2,
      "outputs": []
    },
    {
      "cell_type": "code",
      "source": [
        "# Splitting the data into training and testing sets\n",
        "X_train, X_test, y_train, y_test = train_test_split(X, y, test_size=0.2, random_state=42)"
      ],
      "metadata": {
        "id": "L_88nfd2zIF4"
      },
      "execution_count": 3,
      "outputs": []
    },
    {
      "cell_type": "code",
      "source": [
        "#func to fit the naive bayes model\n",
        "def fit_naive_bayes(X, y):\n",
        "    n_samples, n_features = X.shape\n",
        "    classes = np.unique(y)\n",
        "    n_classes = len(classes)\n",
        "\n",
        "    # init the mean, variance, and prior probabilities\n",
        "    mean = np.zeros((n_classes, n_features), dtype=np.float64)\n",
        "    var = np.zeros((n_classes, n_features), dtype=np.float64)\n",
        "    priors = np.zeros(n_classes, dtype=np.float64)\n",
        "\n",
        "    # Calculate mean, variance, and prior probabilities\n",
        "    for c in classes:\n",
        "        X_c = X[y == c]\n",
        "        mean[c, :] = X_c.mean(axis=0)\n",
        "        var[c, :] = X_c.var(axis=0)\n",
        "        priors[c] = X_c.shape[0] / float(n_samples)\n",
        "\n",
        "    return mean, var, priors, classes"
      ],
      "metadata": {
        "id": "NifaHn0ezLxq"
      },
      "execution_count": 5,
      "outputs": []
    },
    {
      "cell_type": "code",
      "source": [
        "# Function to calculate the probability density function\n",
        "def pdf(class_idx, x, mean, var):\n",
        "    numerator = np.exp(-((x - mean[class_idx]) ** 2) / (2 * var[class_idx]))\n",
        "    denominator = np.sqrt(2 * np.pi * var[class_idx])\n",
        "    return numerator / denominator"
      ],
      "metadata": {
        "id": "ACsaoMYtznZl"
      },
      "execution_count": 16,
      "outputs": []
    },
    {
      "cell_type": "code",
      "source": [
        "# Function to predict the class for a given sample\n",
        "def predict(sample, mean, var, priors, classes):\n",
        "    posteriors = []\n",
        "    for i in range(len(classes)):\n",
        "        prior = np.log(priors[i])\n",
        "        likelihood = np.sum(np.log(pdf(i, sample, mean, var)))\n",
        "        posterior = prior + likelihood\n",
        "        posteriors.append(posterior)\n",
        "    return classes[np.argmax(posteriors)]"
      ],
      "metadata": {
        "id": "H-tXuwFZzqg3"
      },
      "execution_count": 17,
      "outputs": []
    },
    {
      "cell_type": "code",
      "source": [
        "# Function to make predictions for the test set\n",
        "def predict_all(X, mean, var, priors, classes):\n",
        "    return np.array([predict(x, mean, var, priors, classes) for x in X])"
      ],
      "metadata": {
        "id": "D_awKGT_zs7i"
      },
      "execution_count": 18,
      "outputs": []
    },
    {
      "cell_type": "code",
      "source": [
        "# fit model\n",
        "mean, var, priors, classes = fit_naive_bayes(X_train, y_train)"
      ],
      "metadata": {
        "id": "NAK8houAzvid"
      },
      "execution_count": 19,
      "outputs": []
    },
    {
      "cell_type": "code",
      "source": [
        "# Make preds on the test set\n",
        "y_pred = predict_all(X_test, mean, var, priors, classes)"
      ],
      "metadata": {
        "id": "PIW7Bb8wzx8k"
      },
      "execution_count": 20,
      "outputs": []
    },
    {
      "cell_type": "code",
      "source": [
        "# Evaluate the model\n",
        "accuracy = accuracy_score(y_test, y_pred)\n",
        "print(f\"Accuracy: {accuracy:.2f}\")"
      ],
      "metadata": {
        "colab": {
          "base_uri": "https://localhost:8080/"
        },
        "id": "7iVawDDAz02U",
        "outputId": "009e9ef7-8ca5-4542-854a-c08488444626"
      },
      "execution_count": 21,
      "outputs": [
        {
          "output_type": "stream",
          "name": "stdout",
          "text": [
            "Accuracy: 1.00\n"
          ]
        }
      ]
    },
    {
      "cell_type": "code",
      "source": [
        "# build the confusion matrix\n",
        "cm = confusion_matrix(y_test, y_pred)"
      ],
      "metadata": {
        "id": "nkHHrUsgz296"
      },
      "execution_count": 22,
      "outputs": []
    },
    {
      "cell_type": "code",
      "source": [
        "# Visualization of the Confusion Matrix\n",
        "plt.figure(figsize=(8, 6))\n",
        "plt.imshow(cm, interpolation='nearest', cmap=plt.cm.Blues)\n",
        "plt.title('Confusion Matrix')\n",
        "plt.colorbar()\n",
        "tick_marks = np.arange(len(class_names))\n",
        "plt.xticks(tick_marks, class_names, rotation=45)\n",
        "plt.yticks(tick_marks, class_names)\n",
        "\n",
        "fmt = 'd'\n",
        "thresh = cm.max() / 2.\n",
        "for i in range(cm.shape[0]):\n",
        "    for j in range(cm.shape[1]):\n",
        "        plt.text(j, i, format(cm[i, j], fmt),\n",
        "                 horizontalalignment=\"center\",\n",
        "                 color=\"white\" if cm[i, j] > thresh else \"black\")\n",
        "\n",
        "plt.ylabel('True label')\n",
        "plt.xlabel('Predicted label')\n",
        "plt.tight_layout()\n",
        "plt.show()"
      ],
      "metadata": {
        "colab": {
          "base_uri": "https://localhost:8080/",
          "height": 607
        },
        "id": "vunSQIclz64X",
        "outputId": "ea30a254-18fc-40c8-9061-f0b95ce84e55"
      },
      "execution_count": 23,
      "outputs": [
        {
          "output_type": "display_data",
          "data": {
            "text/plain": [
              "<Figure size 800x600 with 2 Axes>"
            ],
            "image/png": "[encoded data removed]"
          },
          "metadata": {}
        }
      ]
    }
  ]
}